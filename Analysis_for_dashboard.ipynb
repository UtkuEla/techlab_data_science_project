{
 "cells": [
  {
   "cell_type": "code",
   "execution_count": null,
   "id": "a50817fb",
   "metadata": {},
   "outputs": [],
   "source": [
    "%matplotlib inline\n",
    "import matplotlib.pyplot as plt\n",
    "import seaborn as sns\n",
    "import pandas as pd\n",
    "import numpy as np\n",
    "from scipy import stats\n"
   ]
  },
  {
   "cell_type": "code",
   "execution_count": null,
   "id": "1c168c96",
   "metadata": {},
   "outputs": [],
   "source": [
    "df = pd.read_csv(r\"C:\\Users\\flora\\Documents\\TechLabs\\Project\\dataset_gym_membership_group2.csv\")"
   ]
  },
  {
   "cell_type": "markdown",
   "id": "bc45c9d4",
   "metadata": {},
   "source": [
    "# Membership type by: Gender, Location, Marital Status"
   ]
  },
  {
   "cell_type": "code",
   "execution_count": null,
   "id": "106cc819",
   "metadata": {
    "scrolled": true
   },
   "outputs": [],
   "source": [
    "#Membership type by gender\n",
    "\n",
    "filt_women = (df[\"Gender\"] == \"Female\")\n",
    "women_only = df.loc[filt_women, \"Membership_Type\"].value_counts()\n",
    "\n",
    "filt_men = (df[\"Gender\"] == \"Male\")\n",
    "men_only = df.loc[filt_men, \"Membership_Type\"].value_counts()\n",
    "\n",
    "\n",
    "plt.subplot(1, 2, 1)\n",
    "\n",
    "sns.barplot(x=women_only.index, y=women_only.values, palette=\"Blues\")\n",
    "plt.title(\"Females by membership type\")\n",
    "plt.xlabel(\"Membership\")\n",
    "plt.ylabel(\"Count\")\n",
    "plt.subplot(1, 2, 2)  \n",
    "sns.barplot(x=men_only.index, y=men_only.values, palette=\"Greens\")\n",
    "plt.title(\"Males by membership type\")\n",
    "plt.xlabel(\"Membership\")\n",
    "plt.ylabel(\"Count\")\n",
    "\n",
    "plt.tight_layout()  #\n",
    "plt.show()"
   ]
  },
  {
   "cell_type": "code",
   "execution_count": null,
   "id": "6d008509",
   "metadata": {
    "scrolled": true
   },
   "outputs": [],
   "source": [
    "#Membership type by location\n",
    "\n",
    "df[\"Location\"].value_counts()\n",
    "urb_filt=(df[\"Location\"]==\"Urban\")\n",
    "sub_filt=(df[\"Location\"]==\"Suburban\")\n",
    "rur_filt=(df[\"Location\"]==\"Rural\")\n",
    "urb_mem=df.loc[urb_filt, \"Membership_Type\"].value_counts()\n",
    "sub_mem=df.loc[sub_filt, \"Membership_Type\"].value_counts()\n",
    "rur_mem=df.loc[rur_filt, \"Membership_Type\"].value_counts()\n",
    "\n",
    "plt.figure(figsize=(18, 6))\n",
    "\n",
    "plt.subplot(1, 3, 1)\n",
    "sns.barplot(x=urb_mem.index, y=urb_mem.values, palette=\"Reds\")\n",
    "plt.title(\"Urban people by membership type\")\n",
    "plt.xlabel(\"Membership Type\")\n",
    "plt.ylabel(\"Count\")\n",
    "\n",
    "plt.subplot(1, 3, 2)\n",
    "sns.barplot(x=sub_mem.index, y=sub_mem.values, palette=\"Blues\")\n",
    "plt.title(\"Suburban people by membership type\")\n",
    "plt.xlabel(\"Membership Type\")\n",
    "plt.ylabel(\"Count\")\n",
    "\n",
    "plt.subplot(1, 3, 3)\n",
    "sns.barplot(x=rur_mem.index, y=rur_mem.values, palette=\"Greens\")\n",
    "plt.title(\"Rural people by membership type\")\n",
    "plt.xlabel(\"Membership Type\")\n",
    "plt.ylabel(\"Count\")\n",
    "\n",
    "\n",
    "plt.tight_layout()\n",
    "plt.show()"
   ]
  },
  {
   "cell_type": "code",
   "execution_count": null,
   "id": "b79219db",
   "metadata": {
    "scrolled": true
   },
   "outputs": [],
   "source": [
    "# Membership type by marital status\n",
    "\n",
    "divorced_filt=(df[\"Marital_Status\"]== \"Divorced\")\n",
    "single_filt=(df[\"Marital_Status\"]== \"Single\")\n",
    "married_filt=(df[\"Marital_Status\"]==\"Married\")\n",
    "div_mem = df.loc[divorced_filt, \"Membership_Type\"].value_counts()\n",
    "single_mem = df.loc[single_filt, \"Membership_Type\"].value_counts()\n",
    "married_mem = df.loc[married_filt, \"Membership_Type\"].value_counts()\n",
    "\n",
    "plt.figure(figsize=(18, 6))\n",
    "\n",
    "plt.subplot(1, 3, 1)\n",
    "sns.barplot(x=div_mem.index, y=div_mem.values, palette=\"Reds\")\n",
    "plt.title(\"Divorced people by membership type\")\n",
    "plt.xlabel(\"Membership Type\")\n",
    "plt.ylabel(\"Count\")\n",
    "\n",
    "plt.subplot(1, 3, 2)\n",
    "sns.barplot(x=single_mem.index, y=single_mem.values, palette=\"Blues\")\n",
    "plt.title(\"Single people by membership type\")\n",
    "plt.xlabel(\"Membership Type\")\n",
    "plt.ylabel(\"Count\")\n",
    "\n",
    "plt.subplot(1, 3, 3)\n",
    "sns.barplot(x=married_mem.index, y=married_mem.values, palette=\"Greens\")\n",
    "plt.title(\"Married people by membership type\")\n",
    "plt.xlabel(\"Membership Type\")\n",
    "plt.ylabel(\"Count\")\n",
    "\n",
    "\n",
    "plt.tight_layout()\n",
    "plt.show()"
   ]
  },
  {
   "cell_type": "markdown",
   "id": "457152cf",
   "metadata": {},
   "source": [
    "# Annual income by gender, location, and marital  status\n"
   ]
  },
  {
   "cell_type": "code",
   "execution_count": null,
   "id": "e3902496",
   "metadata": {},
   "outputs": [],
   "source": [
    "#Annual income by gender\n",
    "\n",
    "plt.figure(figsize = (15, 5))\n",
    "plt.subplot(1, 2, 1)\n",
    "sns.histplot(x = df.loc[(df[\"Gender\"] == \"Male\"), \"Annual_Income\"]).set(title = \"Annual income of men\",\n",
    "                                                            xlabel = \"Income\")\n",
    "plt.subplot(1, 2, 2)\n",
    "sns.histplot(x = df.loc[(df[\"Gender\"] == \"Female\"), \"Annual_Income\"]).set(title = \"Annual income of women\",\n",
    "                                                            xlabel = \"Income\")\n",
    "plt.show()"
   ]
  },
  {
   "cell_type": "code",
   "execution_count": null,
   "id": "125e9e53",
   "metadata": {},
   "outputs": [],
   "source": [
    "#Annual income by location\n",
    "\n",
    "plt.figure(figsize = (15, 5))\n",
    "plt.subplot(1, 3, 1)\n",
    "sns.histplot(x = df.loc[(df[\"Location\"] == \"Urban\"), \"Annual_Income\"]).set(title = \"Annual inocme of urban members\",\n",
    "                                                            xlabel = \"Income\")\n",
    "plt.subplot(1, 3, 2)\n",
    "sns.histplot(x = df.loc[(df[\"Location\"] == \"Suburban\"), \"Annual_Income\"]).set(title = \"Annual income of suburban members\",\n",
    "                                                            xlabel = \"Income\")\n",
    "plt.subplot(1, 3, 3)\n",
    "sns.histplot(x = df.loc[(df[\"Location\"] == \"Rural\"), \"Annual_Income\"]).set(title = \"Annual income of rural members\",\n",
    "                                                            xlabel = \"Income\")\n",
    "\n",
    "plt.show()"
   ]
  },
  {
   "cell_type": "code",
   "execution_count": null,
   "id": "024635cd",
   "metadata": {
    "scrolled": true
   },
   "outputs": [],
   "source": [
    "#Annual income by marital stauts\n",
    "\n",
    "plt.figure(figsize = (15, 5))\n",
    "plt.subplot(1, 3, 1)\n",
    "sns.histplot(x = df.loc[(df[\"Marital_Status\"] == \"Single\"), \"Annual_Income\"]).set(title = \"Annual income of single people\",\n",
    "                                                            xlabel = \"Income\")\n",
    "plt.subplot(1, 3, 2)\n",
    "sns.histplot(x = df.loc[(df[\"Marital_Status\"] == \"Married\"), \"Annual_Income\"]).set(title = \"Annual income of married people\",\n",
    "                                                            xlabel = \"Income\")\n",
    "plt.subplot(1, 3, 3)\n",
    "sns.histplot(x = df.loc[(df[\"Marital_Status\"] == \"Divorced\"), \"Annual_Income\"]).set(title = \"Annual income of divorced people\",\n",
    "                                                            xlabel = \"Income\")\n",
    "\n",
    "plt.show()"
   ]
  },
  {
   "cell_type": "markdown",
   "id": "2bd599d1",
   "metadata": {},
   "source": [
    "# Frequency of visit by gender, location, and marital status"
   ]
  },
  {
   "cell_type": "code",
   "execution_count": null,
   "id": "51ba0681",
   "metadata": {
    "scrolled": true
   },
   "outputs": [],
   "source": [
    "#Frequency of visit by gender\n",
    "\n",
    "plt.figure(figsize = (15, 5))\n",
    "plt.subplot(1, 2, 1)\n",
    "sns.histplot(x = df.loc[(df[\"Gender\"] == \"Male\"), \"Frequency_of_Visit\"]).set(title = \"Frequency of visit for men\",\n",
    "                                                            xlabel = \"Number of weekly visits\")\n",
    "plt.subplot(1, 2, 2)\n",
    "sns.histplot(x = df.loc[(df[\"Gender\"] == \"Female\"), \"Frequency_of_Visit\"]).set(title = \"Frequency of visit for women\",\n",
    "                                                            xlabel = \"Number of weekly visits\")\n",
    "plt.show()"
   ]
  },
  {
   "cell_type": "code",
   "execution_count": null,
   "id": "3c0ee033",
   "metadata": {
    "scrolled": true
   },
   "outputs": [],
   "source": [
    "#Frequency of visit by location\n",
    "\n",
    "plt.figure(figsize = (15, 5))\n",
    "plt.subplot(1, 3, 1)\n",
    "sns.histplot(x = df.loc[(df[\"Location\"] == \"Urban\"), \"Frequency_of_Visit\"]).set(title = \"Frequency of visit for urban members\",\n",
    "                                                            xlabel = \"Number of weekly visits\")\n",
    "plt.subplot(1, 3, 2)\n",
    "sns.histplot(x = df.loc[(df[\"Location\"] == \"Suburban\"), \"Frequency_of_Visit\"]).set(title = \"Frequency of visit for suburban members\",\n",
    "                                                            xlabel = \"Number of weekly visits\")\n",
    "\n",
    "plt.subplot(1, 3, 3)\n",
    "sns.histplot(x = df.loc[(df[\"Location\"] == \"Rural\"), \"Frequency_of_Visit\"]).set(title = \"Frequency of visit for rural members\",\n",
    "                                                            xlabel = \"Number of weekly visits\")\n",
    "plt.show()"
   ]
  },
  {
   "cell_type": "code",
   "execution_count": null,
   "id": "04385dcf",
   "metadata": {
    "scrolled": true
   },
   "outputs": [],
   "source": [
    "#Frequency of visit by marital status\n",
    "\n",
    "plt.figure(figsize = (15, 5))\n",
    "plt.subplot(1, 3, 1)\n",
    "sns.histplot(x = df.loc[(df[\"Marital_Status\"] == \"Single\"), \"Frequency_of_Visit\"]).set(title = \"Frequency of visit for single members\",\n",
    "                                                            xlabel = \"Number of weekly visits\")\n",
    "plt.subplot(1, 3, 2)\n",
    "sns.histplot(x = df.loc[(df[\"Marital_Status\"] == \"Married\"), \"Frequency_of_Visit\"]).set(title = \"Frequency of visit for married members\",\n",
    "                                                            xlabel = \"Number of weekly visits\")\n",
    "\n",
    "plt.subplot(1, 3, 3)\n",
    "sns.histplot(x = df.loc[(df[\"Marital_Status\"] == \"Divorced\"), \"Frequency_of_Visit\"]).set(title = \"Frequency of visit for divorced members\",\n",
    "                                                            xlabel = \"Number of weekly visits\")\n",
    "plt.show()"
   ]
  },
  {
   "cell_type": "markdown",
   "id": "9264ea7e",
   "metadata": {},
   "source": [
    "# Age by gender, location, and marital status"
   ]
  },
  {
   "cell_type": "code",
   "execution_count": null,
   "id": "cc4d0aa8",
   "metadata": {},
   "outputs": [],
   "source": [
    "#Age by gender\n",
    "\n",
    "plt.figure(figsize = (15, 5))\n",
    "plt.subplot(1, 2, 1)\n",
    "sns.histplot(x = df.loc[(df[\"Gender\"] == \"Male\"), \"Age\"]).set(title = \"Age of male members\",\n",
    "                                                            xlabel = \"Age\")\n",
    "plt.subplot(1, 2, 2)\n",
    "sns.histplot(x = df.loc[(df[\"Gender\"] == \"Female\"), \"Age\"]).set(title = \"Age of female members\",\n",
    "                                                            xlabel = \"Age\")\n",
    "plt.show()"
   ]
  },
  {
   "cell_type": "code",
   "execution_count": null,
   "id": "eeedad4a",
   "metadata": {},
   "outputs": [],
   "source": [
    "# Age by location\n",
    "\n",
    "plt.figure(figsize = (15, 5))\n",
    "plt.subplot(1, 3, 1)\n",
    "sns.histplot(x = df.loc[(df[\"Location\"] == \"Urban\"), \"Age\"]).set(title = \"Age of urban members\",\n",
    "                                                            xlabel = \"Age\")\n",
    "plt.subplot(1, 3, 2)\n",
    "sns.histplot(x = df.loc[(df[\"Location\"] == \"Suburban\"), \"Age\"]).set(title = \"Age of suburban members\",\n",
    "                                                            xlabel = \"Age\")\n",
    "\n",
    "plt.subplot(1, 3, 3)\n",
    "sns.histplot(x = df.loc[(df[\"Location\"] == \"Rural\"), \"Age\"]).set(title = \"Age of rural members\",\n",
    "                                                            xlabel = \"Age\")\n",
    "plt.show()"
   ]
  },
  {
   "cell_type": "code",
   "execution_count": null,
   "id": "206f1104",
   "metadata": {},
   "outputs": [],
   "source": [
    "# Age by marital status\n",
    "\n",
    "plt.figure(figsize = (15, 5))\n",
    "plt.subplot(1, 3, 1)\n",
    "sns.histplot(x = df.loc[(df[\"Marital_Status\"] == \"Single\"), \"Age\"]).set(title = \"Age of single members\",\n",
    "                                                            xlabel = \"Age\")\n",
    "plt.subplot(1, 3, 2)\n",
    "sns.histplot(x = df.loc[(df[\"Marital_Status\"] == \"Married\"), \"Age\"]).set(title = \"Age of married members\",\n",
    "                                                            xlabel = \"Age\")\n",
    "\n",
    "plt.subplot(1, 3, 3)\n",
    "sns.histplot(x = df.loc[(df[\"Marital_Status\"] == \"Divorced\"), \"Age\"]).set(title = \"Age of divorced members\",\n",
    "                                                            xlabel = \"Age\")\n",
    "plt.show()"
   ]
  }
 ],
 "metadata": {
  "kernelspec": {
   "display_name": "Python 3 (ipykernel)",
   "language": "python",
   "name": "python3"
  },
  "language_info": {
   "codemirror_mode": {
    "name": "ipython",
    "version": 3
   },
   "file_extension": ".py",
   "mimetype": "text/x-python",
   "name": "python",
   "nbconvert_exporter": "python",
   "pygments_lexer": "ipython3",
   "version": "3.11.5"
  }
 },
 "nbformat": 4,
 "nbformat_minor": 5
}
