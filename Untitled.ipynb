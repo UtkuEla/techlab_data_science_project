{
 "cells": [
  {
   "cell_type": "code",
   "execution_count": 13,
   "id": "732316d8",
   "metadata": {},
   "outputs": [],
   "source": [
    "import pandas as pd\n",
    "import seaborn as sns\n",
    "import matplotlib.pyplot as plt"
   ]
  },
  {
   "cell_type": "code",
   "execution_count": 14,
   "id": "4a22c043",
   "metadata": {},
   "outputs": [],
   "source": [
    "df = pd.read_csv(r\"C:\\Users\\iusti\\Downloads\\archive (1).zip\")"
   ]
  },
  {
   "cell_type": "code",
   "execution_count": 15,
   "id": "cd398284",
   "metadata": {},
   "outputs": [
    {
     "data": {
      "text/html": [
       "<div>\n",
       "<style scoped>\n",
       "    .dataframe tbody tr th:only-of-type {\n",
       "        vertical-align: middle;\n",
       "    }\n",
       "\n",
       "    .dataframe tbody tr th {\n",
       "        vertical-align: top;\n",
       "    }\n",
       "\n",
       "    .dataframe thead th {\n",
       "        text-align: right;\n",
       "    }\n",
       "</style>\n",
       "<table border=\"1\" class=\"dataframe\">\n",
       "  <thead>\n",
       "    <tr style=\"text-align: right;\">\n",
       "      <th></th>\n",
       "      <th>User ID</th>\n",
       "      <th>Age</th>\n",
       "      <th>Gender</th>\n",
       "      <th>Annual Income</th>\n",
       "      <th>Membership Type</th>\n",
       "      <th>Membership Duration</th>\n",
       "      <th>Frequency of Visit</th>\n",
       "      <th>Preferred Time</th>\n",
       "      <th>Previous Membership</th>\n",
       "      <th>Marital Status</th>\n",
       "      <th>Location</th>\n",
       "      <th>Promotion Response</th>\n",
       "      <th>Health Condition</th>\n",
       "      <th>Membership Prediction</th>\n",
       "      <th>Professional</th>\n",
       "      <th>Professional Status</th>\n",
       "    </tr>\n",
       "  </thead>\n",
       "  <tbody>\n",
       "    <tr>\n",
       "      <th>0</th>\n",
       "      <td>1</td>\n",
       "      <td>62</td>\n",
       "      <td>Other</td>\n",
       "      <td>135305</td>\n",
       "      <td>Premium</td>\n",
       "      <td>46</td>\n",
       "      <td>2</td>\n",
       "      <td>Afternoon</td>\n",
       "      <td>Yes</td>\n",
       "      <td>Married</td>\n",
       "      <td>Rural</td>\n",
       "      <td>Yes</td>\n",
       "      <td>Average</td>\n",
       "      <td>No</td>\n",
       "      <td>Late Career</td>\n",
       "      <td>Retired</td>\n",
       "    </tr>\n",
       "    <tr>\n",
       "      <th>1</th>\n",
       "      <td>2</td>\n",
       "      <td>65</td>\n",
       "      <td>Male</td>\n",
       "      <td>59056</td>\n",
       "      <td>Basic</td>\n",
       "      <td>26</td>\n",
       "      <td>6</td>\n",
       "      <td>Afternoon</td>\n",
       "      <td>Yes</td>\n",
       "      <td>Single</td>\n",
       "      <td>Suburban</td>\n",
       "      <td>Yes</td>\n",
       "      <td>Good</td>\n",
       "      <td>No</td>\n",
       "      <td>Retired</td>\n",
       "      <td>Retired</td>\n",
       "    </tr>\n",
       "    <tr>\n",
       "      <th>2</th>\n",
       "      <td>3</td>\n",
       "      <td>18</td>\n",
       "      <td>Male</td>\n",
       "      <td>63857</td>\n",
       "      <td>Basic</td>\n",
       "      <td>46</td>\n",
       "      <td>2</td>\n",
       "      <td>Afternoon</td>\n",
       "      <td>No</td>\n",
       "      <td>Married</td>\n",
       "      <td>Rural</td>\n",
       "      <td>Yes</td>\n",
       "      <td>Excellent</td>\n",
       "      <td>No</td>\n",
       "      <td>Student</td>\n",
       "      <td>Student</td>\n",
       "    </tr>\n",
       "    <tr>\n",
       "      <th>3</th>\n",
       "      <td>4</td>\n",
       "      <td>21</td>\n",
       "      <td>Male</td>\n",
       "      <td>135072</td>\n",
       "      <td>Basic</td>\n",
       "      <td>54</td>\n",
       "      <td>1</td>\n",
       "      <td>Evening</td>\n",
       "      <td>No</td>\n",
       "      <td>Married</td>\n",
       "      <td>Suburban</td>\n",
       "      <td>No</td>\n",
       "      <td>Good</td>\n",
       "      <td>Yes</td>\n",
       "      <td>Student</td>\n",
       "      <td>Student</td>\n",
       "    </tr>\n",
       "    <tr>\n",
       "      <th>4</th>\n",
       "      <td>5</td>\n",
       "      <td>21</td>\n",
       "      <td>Female</td>\n",
       "      <td>59344</td>\n",
       "      <td>Basic</td>\n",
       "      <td>36</td>\n",
       "      <td>5</td>\n",
       "      <td>Morning</td>\n",
       "      <td>Yes</td>\n",
       "      <td>Single</td>\n",
       "      <td>Suburban</td>\n",
       "      <td>No</td>\n",
       "      <td>Excellent</td>\n",
       "      <td>Yes</td>\n",
       "      <td>Student</td>\n",
       "      <td>Student</td>\n",
       "    </tr>\n",
       "    <tr>\n",
       "      <th>...</th>\n",
       "      <td>...</td>\n",
       "      <td>...</td>\n",
       "      <td>...</td>\n",
       "      <td>...</td>\n",
       "      <td>...</td>\n",
       "      <td>...</td>\n",
       "      <td>...</td>\n",
       "      <td>...</td>\n",
       "      <td>...</td>\n",
       "      <td>...</td>\n",
       "      <td>...</td>\n",
       "      <td>...</td>\n",
       "      <td>...</td>\n",
       "      <td>...</td>\n",
       "      <td>...</td>\n",
       "      <td>...</td>\n",
       "    </tr>\n",
       "    <tr>\n",
       "      <th>3995</th>\n",
       "      <td>3996</td>\n",
       "      <td>40</td>\n",
       "      <td>Male</td>\n",
       "      <td>127601</td>\n",
       "      <td>Premium</td>\n",
       "      <td>15</td>\n",
       "      <td>1</td>\n",
       "      <td>Afternoon</td>\n",
       "      <td>Yes</td>\n",
       "      <td>Single</td>\n",
       "      <td>Urban</td>\n",
       "      <td>No</td>\n",
       "      <td>Good</td>\n",
       "      <td>No</td>\n",
       "      <td>Mid Career</td>\n",
       "      <td>Working Professional</td>\n",
       "    </tr>\n",
       "    <tr>\n",
       "      <th>3996</th>\n",
       "      <td>3997</td>\n",
       "      <td>40</td>\n",
       "      <td>Female</td>\n",
       "      <td>77944</td>\n",
       "      <td>Premium</td>\n",
       "      <td>34</td>\n",
       "      <td>1</td>\n",
       "      <td>Evening</td>\n",
       "      <td>No</td>\n",
       "      <td>Single</td>\n",
       "      <td>Urban</td>\n",
       "      <td>No</td>\n",
       "      <td>Average</td>\n",
       "      <td>No</td>\n",
       "      <td>Mid Career</td>\n",
       "      <td>Working Professional</td>\n",
       "    </tr>\n",
       "    <tr>\n",
       "      <th>3997</th>\n",
       "      <td>3998</td>\n",
       "      <td>62</td>\n",
       "      <td>Male</td>\n",
       "      <td>33154</td>\n",
       "      <td>Basic</td>\n",
       "      <td>40</td>\n",
       "      <td>1</td>\n",
       "      <td>Evening</td>\n",
       "      <td>Yes</td>\n",
       "      <td>Married</td>\n",
       "      <td>Suburban</td>\n",
       "      <td>No</td>\n",
       "      <td>Good</td>\n",
       "      <td>Yes</td>\n",
       "      <td>Late Career</td>\n",
       "      <td>Retired</td>\n",
       "    </tr>\n",
       "    <tr>\n",
       "      <th>3998</th>\n",
       "      <td>3999</td>\n",
       "      <td>55</td>\n",
       "      <td>Female</td>\n",
       "      <td>139822</td>\n",
       "      <td>Premium</td>\n",
       "      <td>39</td>\n",
       "      <td>3</td>\n",
       "      <td>Afternoon</td>\n",
       "      <td>Yes</td>\n",
       "      <td>Single</td>\n",
       "      <td>Urban</td>\n",
       "      <td>No</td>\n",
       "      <td>Poor</td>\n",
       "      <td>Yes</td>\n",
       "      <td>Late Career</td>\n",
       "      <td>Working Professional</td>\n",
       "    </tr>\n",
       "    <tr>\n",
       "      <th>3999</th>\n",
       "      <td>4000</td>\n",
       "      <td>52</td>\n",
       "      <td>Female</td>\n",
       "      <td>61604</td>\n",
       "      <td>Basic</td>\n",
       "      <td>6</td>\n",
       "      <td>6</td>\n",
       "      <td>Morning</td>\n",
       "      <td>Yes</td>\n",
       "      <td>Single</td>\n",
       "      <td>Suburban</td>\n",
       "      <td>Yes</td>\n",
       "      <td>Average</td>\n",
       "      <td>Yes</td>\n",
       "      <td>Late Career</td>\n",
       "      <td>Working Professional</td>\n",
       "    </tr>\n",
       "  </tbody>\n",
       "</table>\n",
       "<p>4000 rows × 16 columns</p>\n",
       "</div>"
      ],
      "text/plain": [
       "      User ID  Age  Gender  Annual Income Membership Type  \\\n",
       "0           1   62   Other         135305         Premium   \n",
       "1           2   65    Male          59056           Basic   \n",
       "2           3   18    Male          63857           Basic   \n",
       "3           4   21    Male         135072           Basic   \n",
       "4           5   21  Female          59344           Basic   \n",
       "...       ...  ...     ...            ...             ...   \n",
       "3995     3996   40    Male         127601         Premium   \n",
       "3996     3997   40  Female          77944         Premium   \n",
       "3997     3998   62    Male          33154           Basic   \n",
       "3998     3999   55  Female         139822         Premium   \n",
       "3999     4000   52  Female          61604           Basic   \n",
       "\n",
       "      Membership Duration  Frequency of Visit Preferred Time  \\\n",
       "0                      46                   2      Afternoon   \n",
       "1                      26                   6      Afternoon   \n",
       "2                      46                   2      Afternoon   \n",
       "3                      54                   1        Evening   \n",
       "4                      36                   5        Morning   \n",
       "...                   ...                 ...            ...   \n",
       "3995                   15                   1      Afternoon   \n",
       "3996                   34                   1        Evening   \n",
       "3997                   40                   1        Evening   \n",
       "3998                   39                   3      Afternoon   \n",
       "3999                    6                   6        Morning   \n",
       "\n",
       "     Previous Membership Marital Status  Location Promotion Response  \\\n",
       "0                    Yes        Married     Rural                Yes   \n",
       "1                    Yes         Single  Suburban                Yes   \n",
       "2                     No        Married     Rural                Yes   \n",
       "3                     No        Married  Suburban                 No   \n",
       "4                    Yes         Single  Suburban                 No   \n",
       "...                  ...            ...       ...                ...   \n",
       "3995                 Yes         Single     Urban                 No   \n",
       "3996                  No         Single     Urban                 No   \n",
       "3997                 Yes        Married  Suburban                 No   \n",
       "3998                 Yes         Single     Urban                 No   \n",
       "3999                 Yes         Single  Suburban                Yes   \n",
       "\n",
       "     Health Condition Membership Prediction Professional   Professional Status  \n",
       "0             Average                    No  Late Career               Retired  \n",
       "1                Good                    No      Retired               Retired  \n",
       "2           Excellent                    No      Student               Student  \n",
       "3                Good                   Yes      Student               Student  \n",
       "4           Excellent                   Yes      Student               Student  \n",
       "...               ...                   ...          ...                   ...  \n",
       "3995             Good                    No   Mid Career  Working Professional  \n",
       "3996          Average                    No   Mid Career  Working Professional  \n",
       "3997             Good                   Yes  Late Career               Retired  \n",
       "3998             Poor                   Yes  Late Career  Working Professional  \n",
       "3999          Average                   Yes  Late Career  Working Professional  \n",
       "\n",
       "[4000 rows x 16 columns]"
      ]
     },
     "execution_count": 15,
     "metadata": {},
     "output_type": "execute_result"
    }
   ],
   "source": [
    "df"
   ]
  },
  {
   "cell_type": "code",
   "execution_count": 16,
   "id": "280b06b5",
   "metadata": {},
   "outputs": [
    {
     "name": "stdout",
     "output_type": "stream",
     "text": [
      "<class 'pandas.core.frame.DataFrame'>\n",
      "RangeIndex: 4000 entries, 0 to 3999\n",
      "Data columns (total 16 columns):\n",
      " #   Column                 Non-Null Count  Dtype \n",
      "---  ------                 --------------  ----- \n",
      " 0   User ID                4000 non-null   int64 \n",
      " 1   Age                    4000 non-null   int64 \n",
      " 2   Gender                 4000 non-null   object\n",
      " 3   Annual Income          4000 non-null   int64 \n",
      " 4   Membership Type        4000 non-null   object\n",
      " 5   Membership Duration    4000 non-null   int64 \n",
      " 6   Frequency of Visit     4000 non-null   int64 \n",
      " 7   Preferred Time         4000 non-null   object\n",
      " 8   Previous Membership    4000 non-null   object\n",
      " 9   Marital Status         4000 non-null   object\n",
      " 10  Location               4000 non-null   object\n",
      " 11  Promotion Response     4000 non-null   object\n",
      " 12  Health Condition       4000 non-null   object\n",
      " 13  Membership Prediction  4000 non-null   object\n",
      " 14  Professional           4000 non-null   object\n",
      " 15  Professional Status    4000 non-null   object\n",
      "dtypes: int64(5), object(11)\n",
      "memory usage: 500.1+ KB\n"
     ]
    }
   ],
   "source": [
    "df.info()"
   ]
  },
  {
   "cell_type": "code",
   "execution_count": 17,
   "id": "440eacd0",
   "metadata": {},
   "outputs": [
    {
     "data": {
      "text/plain": [
       "(4000, 16)"
      ]
     },
     "execution_count": 17,
     "metadata": {},
     "output_type": "execute_result"
    }
   ],
   "source": [
    "df.shape"
   ]
  },
  {
   "cell_type": "code",
   "execution_count": 18,
   "id": "d5f60151",
   "metadata": {},
   "outputs": [
    {
     "data": {
      "text/plain": [
       "Index(['User ID', 'Age', 'Gender', 'Annual Income', 'Membership Type',\n",
       "       'Membership Duration', 'Frequency of Visit', 'Preferred Time',\n",
       "       'Previous Membership', 'Marital Status', 'Location',\n",
       "       'Promotion Response', 'Health Condition', 'Membership Prediction',\n",
       "       'Professional', 'Professional Status'],\n",
       "      dtype='object')"
      ]
     },
     "execution_count": 18,
     "metadata": {},
     "output_type": "execute_result"
    }
   ],
   "source": [
    "df.columns"
   ]
  },
  {
   "cell_type": "code",
   "execution_count": 19,
   "id": "5c616628",
   "metadata": {},
   "outputs": [
    {
     "data": {
      "text/plain": [
       "86346.917"
      ]
     },
     "execution_count": 19,
     "metadata": {},
     "output_type": "execute_result"
    }
   ],
   "source": [
    "df['Annual Income'].mean()"
   ]
  },
  {
   "cell_type": "code",
   "execution_count": 20,
   "id": "0db089a4",
   "metadata": {},
   "outputs": [
    {
     "data": {
      "text/plain": [
       "Annual Income\n",
       "85326     2\n",
       "138498    2\n",
       "136272    2\n",
       "127412    2\n",
       "123922    2\n",
       "         ..\n",
       "115923    1\n",
       "136305    1\n",
       "115317    1\n",
       "128858    1\n",
       "61604     1\n",
       "Name: count, Length: 3939, dtype: int64"
      ]
     },
     "execution_count": 20,
     "metadata": {},
     "output_type": "execute_result"
    }
   ],
   "source": [
    "df['Annual Income'].value_counts()"
   ]
  },
  {
   "cell_type": "code",
   "execution_count": 21,
   "id": "79f7cb55",
   "metadata": {},
   "outputs": [
    {
     "data": {
      "text/plain": [
       "Gender\n",
       "Male      1840\n",
       "Female    1800\n",
       "Other      360\n",
       "Name: count, dtype: int64"
      ]
     },
     "execution_count": 21,
     "metadata": {},
     "output_type": "execute_result"
    }
   ],
   "source": [
    "df['Gender'].value_counts()"
   ]
  },
  {
   "cell_type": "code",
   "execution_count": 22,
   "id": "22f47680",
   "metadata": {},
   "outputs": [
    {
     "data": {
      "text/plain": [
       "Marital Status\n",
       "Single      1996\n",
       "Married     1593\n",
       "Divorced     332\n",
       "Widowed       79\n",
       "Name: count, dtype: int64"
      ]
     },
     "execution_count": 22,
     "metadata": {},
     "output_type": "execute_result"
    }
   ],
   "source": [
    "df['Marital Status'].value_counts()"
   ]
  },
  {
   "cell_type": "code",
   "execution_count": 23,
   "id": "d3fb4211",
   "metadata": {},
   "outputs": [],
   "source": [
    "filt=df['Health Condition'].str.contains('Excelent',na=False)"
   ]
  },
  {
   "cell_type": "code",
   "execution_count": 24,
   "id": "dc2369fc",
   "metadata": {
    "scrolled": true
   },
   "outputs": [
    {
     "data": {
      "text/plain": [
       "0       False\n",
       "1       False\n",
       "2       False\n",
       "3       False\n",
       "4       False\n",
       "        ...  \n",
       "3995    False\n",
       "3996    False\n",
       "3997    False\n",
       "3998    False\n",
       "3999    False\n",
       "Name: Health Condition, Length: 4000, dtype: bool"
      ]
     },
     "execution_count": 24,
     "metadata": {},
     "output_type": "execute_result"
    }
   ],
   "source": [
    "filt"
   ]
  },
  {
   "cell_type": "code",
   "execution_count": 25,
   "id": "ffabe6a3",
   "metadata": {},
   "outputs": [
    {
     "data": {
      "text/html": [
       "<div>\n",
       "<style scoped>\n",
       "    .dataframe tbody tr th:only-of-type {\n",
       "        vertical-align: middle;\n",
       "    }\n",
       "\n",
       "    .dataframe tbody tr th {\n",
       "        vertical-align: top;\n",
       "    }\n",
       "\n",
       "    .dataframe thead th {\n",
       "        text-align: right;\n",
       "    }\n",
       "</style>\n",
       "<table border=\"1\" class=\"dataframe\">\n",
       "  <thead>\n",
       "    <tr style=\"text-align: right;\">\n",
       "      <th></th>\n",
       "      <th>User ID</th>\n",
       "      <th>Age</th>\n",
       "      <th>Gender</th>\n",
       "      <th>Annual Income</th>\n",
       "      <th>Membership Type</th>\n",
       "      <th>Membership Duration</th>\n",
       "      <th>Frequency of Visit</th>\n",
       "      <th>Preferred Time</th>\n",
       "      <th>Previous Membership</th>\n",
       "      <th>Marital Status</th>\n",
       "      <th>Location</th>\n",
       "      <th>Promotion Response</th>\n",
       "      <th>Health Condition</th>\n",
       "      <th>Membership Prediction</th>\n",
       "      <th>Professional</th>\n",
       "      <th>Professional Status</th>\n",
       "    </tr>\n",
       "  </thead>\n",
       "  <tbody>\n",
       "    <tr>\n",
       "      <th>0</th>\n",
       "      <td>1</td>\n",
       "      <td>62</td>\n",
       "      <td>Other</td>\n",
       "      <td>135305</td>\n",
       "      <td>Premium</td>\n",
       "      <td>46</td>\n",
       "      <td>2</td>\n",
       "      <td>Afternoon</td>\n",
       "      <td>Yes</td>\n",
       "      <td>Married</td>\n",
       "      <td>Rural</td>\n",
       "      <td>Yes</td>\n",
       "      <td>Average</td>\n",
       "      <td>No</td>\n",
       "      <td>Late Career</td>\n",
       "      <td>Retired</td>\n",
       "    </tr>\n",
       "    <tr>\n",
       "      <th>5</th>\n",
       "      <td>6</td>\n",
       "      <td>57</td>\n",
       "      <td>Male</td>\n",
       "      <td>130879</td>\n",
       "      <td>Premium</td>\n",
       "      <td>49</td>\n",
       "      <td>2</td>\n",
       "      <td>Afternoon</td>\n",
       "      <td>No</td>\n",
       "      <td>Married</td>\n",
       "      <td>Suburban</td>\n",
       "      <td>No</td>\n",
       "      <td>Good</td>\n",
       "      <td>Yes</td>\n",
       "      <td>Late Career</td>\n",
       "      <td>Working Professional</td>\n",
       "    </tr>\n",
       "    <tr>\n",
       "      <th>8</th>\n",
       "      <td>9</td>\n",
       "      <td>39</td>\n",
       "      <td>Female</td>\n",
       "      <td>36287</td>\n",
       "      <td>Premium</td>\n",
       "      <td>15</td>\n",
       "      <td>6</td>\n",
       "      <td>Evening</td>\n",
       "      <td>No</td>\n",
       "      <td>Single</td>\n",
       "      <td>Urban</td>\n",
       "      <td>Yes</td>\n",
       "      <td>Good</td>\n",
       "      <td>Yes</td>\n",
       "      <td>Mid Career</td>\n",
       "      <td>Working Professional</td>\n",
       "    </tr>\n",
       "    <tr>\n",
       "      <th>10</th>\n",
       "      <td>11</td>\n",
       "      <td>54</td>\n",
       "      <td>Female</td>\n",
       "      <td>87173</td>\n",
       "      <td>Premium</td>\n",
       "      <td>56</td>\n",
       "      <td>4</td>\n",
       "      <td>Evening</td>\n",
       "      <td>Yes</td>\n",
       "      <td>Single</td>\n",
       "      <td>Suburban</td>\n",
       "      <td>No</td>\n",
       "      <td>Good</td>\n",
       "      <td>No</td>\n",
       "      <td>Late Career</td>\n",
       "      <td>Working Professional</td>\n",
       "    </tr>\n",
       "    <tr>\n",
       "      <th>17</th>\n",
       "      <td>18</td>\n",
       "      <td>56</td>\n",
       "      <td>Female</td>\n",
       "      <td>76436</td>\n",
       "      <td>Premium</td>\n",
       "      <td>22</td>\n",
       "      <td>2</td>\n",
       "      <td>Morning</td>\n",
       "      <td>Yes</td>\n",
       "      <td>Divorced</td>\n",
       "      <td>Urban</td>\n",
       "      <td>Yes</td>\n",
       "      <td>Average</td>\n",
       "      <td>No</td>\n",
       "      <td>Late Career</td>\n",
       "      <td>Working Professional</td>\n",
       "    </tr>\n",
       "    <tr>\n",
       "      <th>...</th>\n",
       "      <td>...</td>\n",
       "      <td>...</td>\n",
       "      <td>...</td>\n",
       "      <td>...</td>\n",
       "      <td>...</td>\n",
       "      <td>...</td>\n",
       "      <td>...</td>\n",
       "      <td>...</td>\n",
       "      <td>...</td>\n",
       "      <td>...</td>\n",
       "      <td>...</td>\n",
       "      <td>...</td>\n",
       "      <td>...</td>\n",
       "      <td>...</td>\n",
       "      <td>...</td>\n",
       "      <td>...</td>\n",
       "    </tr>\n",
       "    <tr>\n",
       "      <th>3988</th>\n",
       "      <td>3989</td>\n",
       "      <td>38</td>\n",
       "      <td>Other</td>\n",
       "      <td>104581</td>\n",
       "      <td>Premium</td>\n",
       "      <td>6</td>\n",
       "      <td>5</td>\n",
       "      <td>Morning</td>\n",
       "      <td>No</td>\n",
       "      <td>Married</td>\n",
       "      <td>Rural</td>\n",
       "      <td>No</td>\n",
       "      <td>Good</td>\n",
       "      <td>Yes</td>\n",
       "      <td>Mid Career</td>\n",
       "      <td>Working Professional</td>\n",
       "    </tr>\n",
       "    <tr>\n",
       "      <th>3990</th>\n",
       "      <td>3991</td>\n",
       "      <td>47</td>\n",
       "      <td>Male</td>\n",
       "      <td>40955</td>\n",
       "      <td>Premium</td>\n",
       "      <td>36</td>\n",
       "      <td>4</td>\n",
       "      <td>Afternoon</td>\n",
       "      <td>No</td>\n",
       "      <td>Single</td>\n",
       "      <td>Urban</td>\n",
       "      <td>No</td>\n",
       "      <td>Good</td>\n",
       "      <td>Yes</td>\n",
       "      <td>Mid Career</td>\n",
       "      <td>Working Professional</td>\n",
       "    </tr>\n",
       "    <tr>\n",
       "      <th>3995</th>\n",
       "      <td>3996</td>\n",
       "      <td>40</td>\n",
       "      <td>Male</td>\n",
       "      <td>127601</td>\n",
       "      <td>Premium</td>\n",
       "      <td>15</td>\n",
       "      <td>1</td>\n",
       "      <td>Afternoon</td>\n",
       "      <td>Yes</td>\n",
       "      <td>Single</td>\n",
       "      <td>Urban</td>\n",
       "      <td>No</td>\n",
       "      <td>Good</td>\n",
       "      <td>No</td>\n",
       "      <td>Mid Career</td>\n",
       "      <td>Working Professional</td>\n",
       "    </tr>\n",
       "    <tr>\n",
       "      <th>3996</th>\n",
       "      <td>3997</td>\n",
       "      <td>40</td>\n",
       "      <td>Female</td>\n",
       "      <td>77944</td>\n",
       "      <td>Premium</td>\n",
       "      <td>34</td>\n",
       "      <td>1</td>\n",
       "      <td>Evening</td>\n",
       "      <td>No</td>\n",
       "      <td>Single</td>\n",
       "      <td>Urban</td>\n",
       "      <td>No</td>\n",
       "      <td>Average</td>\n",
       "      <td>No</td>\n",
       "      <td>Mid Career</td>\n",
       "      <td>Working Professional</td>\n",
       "    </tr>\n",
       "    <tr>\n",
       "      <th>3998</th>\n",
       "      <td>3999</td>\n",
       "      <td>55</td>\n",
       "      <td>Female</td>\n",
       "      <td>139822</td>\n",
       "      <td>Premium</td>\n",
       "      <td>39</td>\n",
       "      <td>3</td>\n",
       "      <td>Afternoon</td>\n",
       "      <td>Yes</td>\n",
       "      <td>Single</td>\n",
       "      <td>Urban</td>\n",
       "      <td>No</td>\n",
       "      <td>Poor</td>\n",
       "      <td>Yes</td>\n",
       "      <td>Late Career</td>\n",
       "      <td>Working Professional</td>\n",
       "    </tr>\n",
       "  </tbody>\n",
       "</table>\n",
       "<p>1164 rows × 16 columns</p>\n",
       "</div>"
      ],
      "text/plain": [
       "      User ID  Age  Gender  Annual Income Membership Type  \\\n",
       "0           1   62   Other         135305         Premium   \n",
       "5           6   57    Male         130879         Premium   \n",
       "8           9   39  Female          36287         Premium   \n",
       "10         11   54  Female          87173         Premium   \n",
       "17         18   56  Female          76436         Premium   \n",
       "...       ...  ...     ...            ...             ...   \n",
       "3988     3989   38   Other         104581         Premium   \n",
       "3990     3991   47    Male          40955         Premium   \n",
       "3995     3996   40    Male         127601         Premium   \n",
       "3996     3997   40  Female          77944         Premium   \n",
       "3998     3999   55  Female         139822         Premium   \n",
       "\n",
       "      Membership Duration  Frequency of Visit Preferred Time  \\\n",
       "0                      46                   2      Afternoon   \n",
       "5                      49                   2      Afternoon   \n",
       "8                      15                   6        Evening   \n",
       "10                     56                   4        Evening   \n",
       "17                     22                   2        Morning   \n",
       "...                   ...                 ...            ...   \n",
       "3988                    6                   5        Morning   \n",
       "3990                   36                   4      Afternoon   \n",
       "3995                   15                   1      Afternoon   \n",
       "3996                   34                   1        Evening   \n",
       "3998                   39                   3      Afternoon   \n",
       "\n",
       "     Previous Membership Marital Status  Location Promotion Response  \\\n",
       "0                    Yes        Married     Rural                Yes   \n",
       "5                     No        Married  Suburban                 No   \n",
       "8                     No         Single     Urban                Yes   \n",
       "10                   Yes         Single  Suburban                 No   \n",
       "17                   Yes       Divorced     Urban                Yes   \n",
       "...                  ...            ...       ...                ...   \n",
       "3988                  No        Married     Rural                 No   \n",
       "3990                  No         Single     Urban                 No   \n",
       "3995                 Yes         Single     Urban                 No   \n",
       "3996                  No         Single     Urban                 No   \n",
       "3998                 Yes         Single     Urban                 No   \n",
       "\n",
       "     Health Condition Membership Prediction Professional   Professional Status  \n",
       "0             Average                    No  Late Career               Retired  \n",
       "5                Good                   Yes  Late Career  Working Professional  \n",
       "8                Good                   Yes   Mid Career  Working Professional  \n",
       "10               Good                    No  Late Career  Working Professional  \n",
       "17            Average                    No  Late Career  Working Professional  \n",
       "...               ...                   ...          ...                   ...  \n",
       "3988             Good                   Yes   Mid Career  Working Professional  \n",
       "3990             Good                   Yes   Mid Career  Working Professional  \n",
       "3995             Good                    No   Mid Career  Working Professional  \n",
       "3996          Average                    No   Mid Career  Working Professional  \n",
       "3998             Poor                   Yes  Late Career  Working Professional  \n",
       "\n",
       "[1164 rows x 16 columns]"
      ]
     },
     "execution_count": 25,
     "metadata": {},
     "output_type": "execute_result"
    }
   ],
   "source": [
    "mem_grp=df.groupby(['Membership Type'])\n",
    "mem_grp.get_group(\"Premium\")"
   ]
  },
  {
   "cell_type": "code",
   "execution_count": 26,
   "id": "7adc731c",
   "metadata": {},
   "outputs": [
    {
     "data": {
      "text/plain": [
       "Membership Type  Annual Income\n",
       "Basic            22318            2\n",
       "                 105311           2\n",
       "                 91984            2\n",
       "                 24015            2\n",
       "                 24795            2\n",
       "                                 ..\n",
       "VIP              99861            1\n",
       "                 100297           1\n",
       "                 100424           1\n",
       "                 100928           1\n",
       "                 149794           1\n",
       "Name: count, Length: 3971, dtype: int64"
      ]
     },
     "execution_count": 26,
     "metadata": {},
     "output_type": "execute_result"
    }
   ],
   "source": [
    "mem_grp[\"Annual Income\"].value_counts()"
   ]
  },
  {
   "cell_type": "code",
   "execution_count": 27,
   "id": "7874577f",
   "metadata": {},
   "outputs": [],
   "source": [
    "premium_members = df[df['Membership Type'] == 'Premium']"
   ]
  },
  {
   "cell_type": "code",
   "execution_count": 28,
   "id": "4ce4493d",
   "metadata": {},
   "outputs": [],
   "source": [
    "average_income = premium_members['Annual Income'].mean()"
   ]
  },
  {
   "cell_type": "code",
   "execution_count": 29,
   "id": "d10255f2",
   "metadata": {
    "scrolled": true
   },
   "outputs": [
    {
     "name": "stdout",
     "output_type": "stream",
     "text": [
      "The average annual income of premium members is: $86835.57\n"
     ]
    }
   ],
   "source": [
    "print(f\"The average annual income of premium members is: ${average_income:.2f}\")"
   ]
  },
  {
   "cell_type": "code",
   "execution_count": 70,
   "id": "b844e281",
   "metadata": {},
   "outputs": [
    {
     "data": {
      "text/plain": [
       "Membership Type\n",
       "Basic      2434\n",
       "Premium    1164\n",
       "VIP         402\n",
       "Name: count, dtype: int64"
      ]
     },
     "execution_count": 70,
     "metadata": {},
     "output_type": "execute_result"
    }
   ],
   "source": [
    "df[\"Membership Type\"].value_counts()"
   ]
  },
  {
   "cell_type": "code",
   "execution_count": 72,
   "id": "9ed891c5",
   "metadata": {},
   "outputs": [
    {
     "data": {
      "image/png": "[encoded data removed]",
      "text/plain": [
       "<Figure size 640x480 with 1 Axes>"
      ]
     },
     "metadata": {},
     "output_type": "display_data"
    }
   ],
   "source": [
    "membership_counts = df['Membership Type'].value_counts()\n",
    "sns.barplot(x=membership_counts.index, y=membership_counts.values).set_title(\"Types of Memberships\")\n",
    "plt.show()"
   ]
  },
  {
   "cell_type": "code",
   "execution_count": 75,
   "id": "2c7e68e9",
   "metadata": {},
   "outputs": [
    {
     "data": {
      "text/plain": [
       "Previous Membership\n",
       "No     2447\n",
       "Yes    1553\n",
       "Name: count, dtype: int64"
      ]
     },
     "execution_count": 75,
     "metadata": {},
     "output_type": "execute_result"
    }
   ],
   "source": [
    "df[\"Previous Membership\"].value_counts()"
   ]
  },
  {
   "cell_type": "code",
   "execution_count": 77,
   "id": "3ef4426a",
   "metadata": {},
   "outputs": [
    {
     "data": {
      "image/png": "[encoded data removed]",
      "text/plain": [
       "<Figure size 640x480 with 1 Axes>"
      ]
     },
     "metadata": {},
     "output_type": "display_data"
    }
   ],
   "source": [
    "prev_mem = df['Previous Membership'].value_counts()\n",
    "sns.barplot(x=prev_mem.index, y=prev_mem.values).set_title(\"Previous Memberships\")\n",
    "plt.show()"
   ]
  },
  {
   "cell_type": "code",
   "execution_count": 30,
   "id": "6f76dd74",
   "metadata": {},
   "outputs": [],
   "source": [
    "women_members=mem_grp[\"Gender\"].apply(lambda x: x.str.contains(\"Female\").sum())"
   ]
  },
  {
   "cell_type": "code",
   "execution_count": 31,
   "id": "71d742ce",
   "metadata": {
    "scrolled": true
   },
   "outputs": [
    {
     "data": {
      "text/plain": [
       "Membership Type\n",
       "Basic      1083\n",
       "Premium     536\n",
       "VIP         181\n",
       "Name: Gender, dtype: int64"
      ]
     },
     "execution_count": 31,
     "metadata": {},
     "output_type": "execute_result"
    }
   ],
   "source": [
    "women_members"
   ]
  },
  {
   "cell_type": "code",
   "execution_count": 44,
   "id": "483884d0",
   "metadata": {},
   "outputs": [
    {
     "data": {
      "image/png": "[encoded data removed]",
      "text/plain": [
       "<Figure size 640x480 with 1 Axes>"
      ]
     },
     "metadata": {},
     "output_type": "display_data"
    }
   ],
   "source": [
    "sns.barplot(x=women_members.index, y=women_members.values).set_title(\"Bar Plot of Women Members\")\n",
    "plt.show()"
   ]
  },
  {
   "cell_type": "code",
   "execution_count": 32,
   "id": "8f7f48f3",
   "metadata": {},
   "outputs": [],
   "source": [
    "men_members=mem_grp[\"Gender\"].apply(lambda x: x.str.contains(\"Male\").sum())"
   ]
  },
  {
   "cell_type": "code",
   "execution_count": 33,
   "id": "f12ba756",
   "metadata": {},
   "outputs": [
    {
     "data": {
      "text/plain": [
       "Membership Type\n",
       "Basic      1120\n",
       "Premium     537\n",
       "VIP         183\n",
       "Name: Gender, dtype: int64"
      ]
     },
     "execution_count": 33,
     "metadata": {},
     "output_type": "execute_result"
    }
   ],
   "source": [
    "men_members"
   ]
  },
  {
   "cell_type": "code",
   "execution_count": 43,
   "id": "4a6b2d34",
   "metadata": {},
   "outputs": [
    {
     "data": {
      "image/png": "[encoded data removed]",
      "text/plain": [
       "<Figure size 640x480 with 1 Axes>"
      ]
     },
     "metadata": {},
     "output_type": "display_data"
    }
   ],
   "source": [
    "sns.barplot(x=men_members.index, y=men_members.values).set_title(\"Bar Plot of Men Members\")\n",
    "plt.show()"
   ]
  },
  {
   "cell_type": "code",
   "execution_count": 39,
   "id": "e19642be",
   "metadata": {},
   "outputs": [
    {
     "name": "stderr",
     "output_type": "stream",
     "text": [
      "C:\\Users\\iusti\\anaconda3\\Lib\\site-packages\\seaborn\\_oldcore.py:1119: FutureWarning: use_inf_as_na option is deprecated and will be removed in a future version. Convert inf values to NaN before operating instead.\n",
      "  with pd.option_context('mode.use_inf_as_na', True):\n"
     ]
    },
    {
     "data": {
      "text/plain": [
       "Text(0.5, 1.0, 'Histogram of Gender')"
      ]
     },
     "execution_count": 39,
     "metadata": {},
     "output_type": "execute_result"
    },
    {
     "data": {
      "image/png": "[encoded data removed]",
      "text/plain": [
       "<Figure size 640x480 with 1 Axes>"
      ]
     },
     "metadata": {},
     "output_type": "display_data"
    }
   ],
   "source": [
    "sns.histplot(df[\"Gender\"], kde = False).set_title(\"Histogram of Gender\")"
   ]
  },
  {
   "cell_type": "code",
   "execution_count": 56,
   "id": "395f673e",
   "metadata": {},
   "outputs": [],
   "source": [
    "mar_grp=df.groupby([\"Marital Status\"])\n",
    "prem_mem=mar_grp[\"Membership Type\"].apply(lambda x: x.str.contains(\"Premium\").sum())"
   ]
  },
  {
   "cell_type": "code",
   "execution_count": 57,
   "id": "5ce60c43",
   "metadata": {},
   "outputs": [
    {
     "data": {
      "text/plain": [
       "Marital Status\n",
       "Divorced     90\n",
       "Married     470\n",
       "Single      579\n",
       "Widowed      25\n",
       "Name: Membership Type, dtype: int64"
      ]
     },
     "execution_count": 57,
     "metadata": {},
     "output_type": "execute_result"
    }
   ],
   "source": [
    "prem_mem"
   ]
  },
  {
   "cell_type": "code",
   "execution_count": 58,
   "id": "72237a8d",
   "metadata": {
    "scrolled": true
   },
   "outputs": [
    {
     "data": {
      "image/png": "[encoded data removed]",
      "text/plain": [
       "<Figure size 640x480 with 1 Axes>"
      ]
     },
     "metadata": {},
     "output_type": "display_data"
    }
   ],
   "source": [
    "sns.barplot(x=prem_mem.index, y=prem_mem.values).set_title(\"Premium membership by marital status\")\n",
    "plt.show()"
   ]
  },
  {
   "cell_type": "code",
   "execution_count": 68,
   "id": "c2db038b",
   "metadata": {},
   "outputs": [],
   "source": [
    "grp_location=df.groupby([\"Location\"])\n",
    "gen_loc=grp_location[\"Gender\"].apply(lambda x: x.str.contains(\"Female\").sum())"
   ]
  },
  {
   "cell_type": "code",
   "execution_count": 66,
   "id": "1462877b",
   "metadata": {},
   "outputs": [
    {
     "data": {
      "text/plain": [
       "Location\n",
       "Rural       354\n",
       "Suburban    515\n",
       "Urban       971\n",
       "Name: Gender, dtype: int64"
      ]
     },
     "execution_count": 66,
     "metadata": {},
     "output_type": "execute_result"
    }
   ],
   "source": [
    "gen_loc"
   ]
  },
  {
   "cell_type": "code",
   "execution_count": 69,
   "id": "30baf1de",
   "metadata": {
    "scrolled": true
   },
   "outputs": [
    {
     "data": {
      "image/png": "[encoded data removed]",
      "text/plain": [
       "<Figure size 640x480 with 1 Axes>"
      ]
     },
     "metadata": {},
     "output_type": "display_data"
    }
   ],
   "source": [
    "sns.barplot(x=gen_loc.index, y=gen_loc.values).set_title(\"Women members by location\")\n",
    "plt.show()"
   ]
  },
  {
   "cell_type": "code",
   "execution_count": 82,
   "id": "98d9afa0",
   "metadata": {},
   "outputs": [],
   "source": [
    "pref_time=df.groupby([\"Preferred Time\"])\n",
    "pref_time_men=pref_time[\"Gender\"].apply(lambda x: x.str.contains(\"Male\").sum())"
   ]
  },
  {
   "cell_type": "code",
   "execution_count": 85,
   "id": "60465488",
   "metadata": {},
   "outputs": [],
   "source": [
    "pref_time=df.groupby([\"Preferred Time\"])\n",
    "pref_time_fem=pref_time[\"Gender\"].apply(lambda x: x.str.contains(\"Female\").sum())"
   ]
  },
  {
   "cell_type": "code",
   "execution_count": 83,
   "id": "507b53f8",
   "metadata": {},
   "outputs": [
    {
     "data": {
      "text/plain": [
       "Preferred Time\n",
       "Afternoon    575\n",
       "Evening      537\n",
       "Morning      728\n",
       "Name: Gender, dtype: int64"
      ]
     },
     "execution_count": 83,
     "metadata": {},
     "output_type": "execute_result"
    }
   ],
   "source": [
    "pref_time_men"
   ]
  },
  {
   "cell_type": "code",
   "execution_count": 86,
   "id": "bf6fa5de",
   "metadata": {},
   "outputs": [
    {
     "data": {
      "text/plain": [
       "Preferred Time\n",
       "Afternoon    550\n",
       "Evening      538\n",
       "Morning      712\n",
       "Name: Gender, dtype: int64"
      ]
     },
     "execution_count": 86,
     "metadata": {},
     "output_type": "execute_result"
    }
   ],
   "source": [
    "pref_time_fem"
   ]
  },
  {
   "cell_type": "code",
   "execution_count": 96,
   "id": "9929431b",
   "metadata": {},
   "outputs": [],
   "source": [
    "combined_counts = pd.DataFrame({\n",
    "    'Male': pref_time_men,\n",
    "    'Female': pref_time_fem\n",
    "})"
   ]
  },
  {
   "cell_type": "code",
   "execution_count": 97,
   "id": "1de871c9",
   "metadata": {
    "scrolled": true
   },
   "outputs": [
    {
     "data": {
      "text/html": [
       "<div>\n",
       "<style scoped>\n",
       "    .dataframe tbody tr th:only-of-type {\n",
       "        vertical-align: middle;\n",
       "    }\n",
       "\n",
       "    .dataframe tbody tr th {\n",
       "        vertical-align: top;\n",
       "    }\n",
       "\n",
       "    .dataframe thead th {\n",
       "        text-align: right;\n",
       "    }\n",
       "</style>\n",
       "<table border=\"1\" class=\"dataframe\">\n",
       "  <thead>\n",
       "    <tr style=\"text-align: right;\">\n",
       "      <th></th>\n",
       "      <th>Male</th>\n",
       "      <th>Female</th>\n",
       "    </tr>\n",
       "    <tr>\n",
       "      <th>Preferred Time</th>\n",
       "      <th></th>\n",
       "      <th></th>\n",
       "    </tr>\n",
       "  </thead>\n",
       "  <tbody>\n",
       "    <tr>\n",
       "      <th>Afternoon</th>\n",
       "      <td>550</td>\n",
       "      <td>550</td>\n",
       "    </tr>\n",
       "    <tr>\n",
       "      <th>Evening</th>\n",
       "      <td>538</td>\n",
       "      <td>538</td>\n",
       "    </tr>\n",
       "    <tr>\n",
       "      <th>Morning</th>\n",
       "      <td>712</td>\n",
       "      <td>712</td>\n",
       "    </tr>\n",
       "  </tbody>\n",
       "</table>\n",
       "</div>"
      ],
      "text/plain": [
       "                Male  Female\n",
       "Preferred Time              \n",
       "Afternoon        550     550\n",
       "Evening          538     538\n",
       "Morning          712     712"
      ]
     },
     "execution_count": 97,
     "metadata": {},
     "output_type": "execute_result"
    }
   ],
   "source": [
    "combined_counts"
   ]
  },
  {
   "cell_type": "code",
   "execution_count": 100,
   "id": "3e686f0b",
   "metadata": {},
   "outputs": [],
   "source": [
    "combined_counts_reset = combined_counts.reset_index()"
   ]
  },
  {
   "cell_type": "code",
   "execution_count": 101,
   "id": "358b9121",
   "metadata": {},
   "outputs": [
    {
     "data": {
      "text/html": [
       "<div>\n",
       "<style scoped>\n",
       "    .dataframe tbody tr th:only-of-type {\n",
       "        vertical-align: middle;\n",
       "    }\n",
       "\n",
       "    .dataframe tbody tr th {\n",
       "        vertical-align: top;\n",
       "    }\n",
       "\n",
       "    .dataframe thead th {\n",
       "        text-align: right;\n",
       "    }\n",
       "</style>\n",
       "<table border=\"1\" class=\"dataframe\">\n",
       "  <thead>\n",
       "    <tr style=\"text-align: right;\">\n",
       "      <th></th>\n",
       "      <th>Preferred Time</th>\n",
       "      <th>Male</th>\n",
       "      <th>Female</th>\n",
       "    </tr>\n",
       "  </thead>\n",
       "  <tbody>\n",
       "    <tr>\n",
       "      <th>0</th>\n",
       "      <td>Afternoon</td>\n",
       "      <td>550</td>\n",
       "      <td>550</td>\n",
       "    </tr>\n",
       "    <tr>\n",
       "      <th>1</th>\n",
       "      <td>Evening</td>\n",
       "      <td>538</td>\n",
       "      <td>538</td>\n",
       "    </tr>\n",
       "    <tr>\n",
       "      <th>2</th>\n",
       "      <td>Morning</td>\n",
       "      <td>712</td>\n",
       "      <td>712</td>\n",
       "    </tr>\n",
       "  </tbody>\n",
       "</table>\n",
       "</div>"
      ],
      "text/plain": [
       "  Preferred Time  Male  Female\n",
       "0      Afternoon   550     550\n",
       "1        Evening   538     538\n",
       "2        Morning   712     712"
      ]
     },
     "execution_count": 101,
     "metadata": {},
     "output_type": "execute_result"
    }
   ],
   "source": [
    "combined_counts_reset"
   ]
  },
  {
   "cell_type": "code",
   "execution_count": 104,
   "id": "52fb9b44",
   "metadata": {},
   "outputs": [],
   "source": [
    "combined_counts_melted = pd.melt(combined_counts_reset, id_vars=['Preferred Time'], value_vars=['Male', 'Female'], var_name='Gender', value_name='Count')"
   ]
  },
  {
   "cell_type": "code",
   "execution_count": 105,
   "id": "a5ad0afa",
   "metadata": {},
   "outputs": [
    {
     "data": {
      "image/png": "[encoded data removed]",
      "text/plain": [
       "<Figure size 640x480 with 1 Axes>"
      ]
     },
     "metadata": {},
     "output_type": "display_data"
    }
   ],
   "source": [
    "sns.barplot(x='Preferred Time', y='Count', hue='Gender', data=combined_counts_melted)\n",
    "plt.title('Preferred Time by Gender')\n",
    "plt.show()"
   ]
  }
 ],
 "metadata": {
  "kernelspec": {
   "display_name": "Python 3 (ipykernel)",
   "language": "python",
   "name": "python3"
  },
  "language_info": {
   "codemirror_mode": {
    "name": "ipython",
    "version": 3
   },
   "file_extension": ".py",
   "mimetype": "text/x-python",
   "name": "python",
   "nbconvert_exporter": "python",
   "pygments_lexer": "ipython3",
   "version": "3.11.7"
  }
 },
 "nbformat": 4,
 "nbformat_minor": 5
}
